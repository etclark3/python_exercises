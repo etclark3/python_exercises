{
 "cells": [
  {
   "cell_type": "markdown",
   "id": "8fece037",
   "metadata": {},
   "source": [
    "#### Q1: Define a function named is_two. It should accept one input and return True if the passed input is either the number or the string 2, False otherwise."
   ]
  },
  {
   "cell_type": "code",
   "execution_count": 33,
   "id": "696f2396",
   "metadata": {},
   "outputs": [
    {
     "name": "stdout",
     "output_type": "stream",
     "text": [
      "False\n",
      "True\n",
      "False\n",
      "False\n"
     ]
    }
   ],
   "source": [
    "def is_two(q):\n",
    "    if (q == '2') or (q == 2):\n",
    "        return True\n",
    "    else:\n",
    "        return False\n",
    "    \n",
    "print(is_two(1))\n",
    "print(is_two(2))\n",
    "print(is_two(3))\n",
    "print(is_two('n'))"
   ]
  },
  {
   "cell_type": "markdown",
   "id": "decd69df",
   "metadata": {},
   "source": [
    "#### Q2: Define a function named is_vowel. It should return True if the passed string is a vowel, False otherwise."
   ]
  },
  {
   "cell_type": "code",
   "execution_count": 44,
   "id": "452a6420",
   "metadata": {
    "scrolled": true
   },
   "outputs": [
    {
     "name": "stdout",
     "output_type": "stream",
     "text": [
      "False\n",
      "True\n",
      "True\n",
      "True\n"
     ]
    }
   ],
   "source": [
    "def is_vowel(v):\n",
    "    if v in ['a','e','i','o','u'] or v in ['A','E','I','O','U']:\n",
    "        return True\n",
    "    else: \n",
    "        return False\n",
    "    \n",
    "print(is_vowel('f'))\n",
    "print(is_vowel('e'))\n",
    "print(is_vowel('i'))\n",
    "print(is_vowel('O'))"
   ]
  },
  {
   "cell_type": "code",
   "execution_count": 53,
   "id": "15d2356f",
   "metadata": {},
   "outputs": [
    {
     "name": "stdout",
     "output_type": "stream",
     "text": [
      "False\n",
      "True\n",
      "True\n",
      "True\n"
     ]
    }
   ],
   "source": [
    "def is_vowel(v):\n",
    "    if v in 'aeiou' or v in 'AEIOU':\n",
    "        return True\n",
    "    else: \n",
    "        return False\n",
    "    \n",
    "print(is_vowel('f'))\n",
    "print(is_vowel('e'))\n",
    "print(is_vowel('i'))\n",
    "print(is_vowel('O'))"
   ]
  },
  {
   "cell_type": "markdown",
   "id": "f4c3d2cd",
   "metadata": {},
   "source": [
    "#### Q3: Define a function named is_consonant. It should return True if the passed string is a consonant, False otherwise. Use your is_vowel function to accomplish this."
   ]
  },
  {
   "cell_type": "code",
   "execution_count": 74,
   "id": "73073fbf",
   "metadata": {},
   "outputs": [
    {
     "name": "stdout",
     "output_type": "stream",
     "text": [
      "True\n",
      "False\n",
      "False\n",
      "False\n",
      "False\n"
     ]
    }
   ],
   "source": [
    "def is_consonant(c):\n",
    "    if c in 'aeiou' or c in 'AEIOU' or c.isdigit():\n",
    "        return False\n",
    "    else:\n",
    "        return True\n",
    "    \n",
    "print(is_consonant('f'))\n",
    "print(is_consonant('e'))\n",
    "print(is_consonant('i'))\n",
    "print(is_consonant('O'))\n",
    "print(is_consonant('2'))"
   ]
  },
  {
   "cell_type": "code",
   "execution_count": 76,
   "id": "711ebabc",
   "metadata": {},
   "outputs": [
    {
     "name": "stdout",
     "output_type": "stream",
     "text": [
      "True\n",
      "False\n",
      "False\n",
      "False\n",
      "False\n"
     ]
    }
   ],
   "source": [
    "def is_consonant(c):\n",
    "    if c in 'aeiou' or c in 'AEIOU' or c.isdigit():\n",
    "        return False\n",
    "    return True\n",
    "    \n",
    "print(is_consonant('f'))\n",
    "print(is_consonant('e'))\n",
    "print(is_consonant('i'))\n",
    "print(is_consonant('O'))\n",
    "print(is_consonant('2'))"
   ]
  },
  {
   "cell_type": "markdown",
   "id": "95c1381f",
   "metadata": {},
   "source": [
    "#### Q4: Define a function that accepts a string that is a word. The function should capitalize the first letter of the word if the word starts with a consonant."
   ]
  },
  {
   "cell_type": "code",
   "execution_count": 97,
   "id": "1221e609",
   "metadata": {},
   "outputs": [
    {
     "name": "stdout",
     "output_type": "stream",
     "text": [
      "Hi\n",
      "F\n",
      "E\n",
      "I\n",
      "O\n",
      "2\n"
     ]
    }
   ],
   "source": [
    "def string(s):\n",
    "    if type(s) == str:\n",
    "        return s.capitalize()\n",
    "    else:\n",
    "        return s\n",
    "\n",
    "print(string('hi'))\n",
    "print(string('f'))\n",
    "print(string('e'))\n",
    "print(string('i'))\n",
    "print(string('O'))\n",
    "print(string('2'))"
   ]
  },
  {
   "cell_type": "code",
   "execution_count": 100,
   "id": "127ca5db",
   "metadata": {},
   "outputs": [
    {
     "name": "stdout",
     "output_type": "stream",
     "text": [
      "HI 5\n"
     ]
    },
    {
     "ename": "TypeError",
     "evalue": "'builtin_function_or_method' object is not subscriptable",
     "output_type": "error",
     "traceback": [
      "\u001b[0;31m---------------------------------------------------------------------------\u001b[0m",
      "\u001b[0;31mTypeError\u001b[0m                                 Traceback (most recent call last)",
      "Input \u001b[0;32mIn [100]\u001b[0m, in \u001b[0;36m<cell line: 4>\u001b[0;34m()\u001b[0m\n\u001b[1;32m      2\u001b[0m s \u001b[38;5;241m=\u001b[39m \u001b[38;5;241m5\u001b[39m\n\u001b[1;32m      3\u001b[0m \u001b[38;5;28mprint\u001b[39m(h\u001b[38;5;241m.\u001b[39mupper(), s)\n\u001b[0;32m----> 4\u001b[0m \u001b[38;5;28mprint\u001b[39m(\u001b[43mh\u001b[49m\u001b[38;5;241;43m.\u001b[39;49m\u001b[43mupper\u001b[49m\u001b[43m[\u001b[49m\u001b[38;5;241;43m0\u001b[39;49m\u001b[43m]\u001b[49m)\n",
      "\u001b[0;31mTypeError\u001b[0m: 'builtin_function_or_method' object is not subscriptable"
     ]
    }
   ],
   "source": [
    "h = 'hi'\n",
    "s = 5\n",
    "print(h.upper(), s)\n",
    "print(h.upper[0])"
   ]
  },
  {
   "cell_type": "markdown",
   "id": "62dfa7c5",
   "metadata": {},
   "source": [
    "#### Q5: Define a function named calculate_tip. It should accept a tip percentage (a number between 0 and 1) and the bill total, and return the amount to tip."
   ]
  },
  {
   "cell_type": "code",
   "execution_count": 107,
   "id": "58d746af",
   "metadata": {},
   "outputs": [
    {
     "name": "stdout",
     "output_type": "stream",
     "text": [
      "48.0\n"
     ]
    }
   ],
   "source": [
    "def calculate_tip(check,tip):\n",
    "    x = check\n",
    "    y = tip\n",
    "    return x * y\n",
    "\n",
    "print(calculate_tip(120,0.4))"
   ]
  },
  {
   "cell_type": "markdown",
   "id": "fa470d4c",
   "metadata": {},
   "source": [
    "#### Q6: Define a function named apply_discount. It should accept a original price, and a discount percentage, and return the price after the discount is applied."
   ]
  },
  {
   "cell_type": "code",
   "execution_count": 117,
   "id": "5e37f301",
   "metadata": {},
   "outputs": [
    {
     "name": "stdout",
     "output_type": "stream",
     "text": [
      "140.0\n"
     ]
    }
   ],
   "source": [
    "def apply_discount(price,discount):\n",
    "    w = price\n",
    "    z = discount\n",
    "    return w - (w * z/100)\n",
    "\n",
    "print(apply_discount(200,30))"
   ]
  },
  {
   "cell_type": "markdown",
   "id": "4339ab8c",
   "metadata": {},
   "source": [
    "#### Q7: Define a function named handle_commas. It should accept a string that is a number that contains commas in it as input, and return a number as output."
   ]
  },
  {
   "cell_type": "code",
   "execution_count": 75,
   "id": "f978e4a1",
   "metadata": {},
   "outputs": [
    {
     "ename": "SyntaxError",
     "evalue": "invalid syntax (2009466628.py, line 1)",
     "output_type": "error",
     "traceback": [
      "\u001b[0;36m  Input \u001b[0;32mIn [75]\u001b[0;36m\u001b[0m\n\u001b[0;31m    def handle\u001b[0m\n\u001b[0m              ^\u001b[0m\n\u001b[0;31mSyntaxError\u001b[0m\u001b[0;31m:\u001b[0m invalid syntax\n"
     ]
    }
   ],
   "source": [
    "def handle_commas(hc):\n",
    "    if hc.isdigit():\n",
    "        hc.count()\n",
    "        return"
   ]
  },
  {
   "cell_type": "code",
   "execution_count": 5,
   "id": "178de447",
   "metadata": {},
   "outputs": [
    {
     "name": "stdout",
     "output_type": "stream",
     "text": [
      "1234\n",
      "7\n"
     ]
    }
   ],
   "source": [
    "def handle_commas(hc):\n",
    "    if type(hc) == str:\n",
    "        return int(hc.replace(',',''))\n",
    "    else:\n",
    "        return hc\n",
    "    \n",
    "print(handle_commas(\"1,2,3,4\"))\n",
    "print(handle_commas(\",,,,7,,,,\"))"
   ]
  },
  {
   "cell_type": "markdown",
   "id": "5f9cfb2f",
   "metadata": {},
   "source": [
    "#### Q8: Define a function named get_letter_grade. It should accept a number and return the letter grade associated with that number (A-F).\n"
   ]
  },
  {
   "cell_type": "code",
   "execution_count": 7,
   "id": "2f1fbb1f",
   "metadata": {},
   "outputs": [
    {
     "name": "stdout",
     "output_type": "stream",
     "text": [
      "E... wait, is this really a grade?\n",
      "Failure\n"
     ]
    }
   ],
   "source": [
    "def get_letter_grade(g):\n",
    "    if g >= 90:\n",
    "        return 'A'\n",
    "    if g >= 80:\n",
    "        return 'B'\n",
    "    if g >= 70:\n",
    "        return 'C'\n",
    "    if g >= 60:\n",
    "        return 'D'\n",
    "    if g >= 50:\n",
    "        return 'E... wait, is this really a grade?'\n",
    "    else:\n",
    "        return 'Failure'\n",
    "    \n",
    "print(get_letter_grade(55))\n",
    "print(get_letter_grade(15))"
   ]
  },
  {
   "cell_type": "markdown",
   "id": "7ce7949f",
   "metadata": {},
   "source": [
    "#### Q9: Define a function named remove_vowels that accepts a string and returns a string with all the vowels removed."
   ]
  },
  {
   "cell_type": "code",
   "execution_count": null,
   "id": "d83d113d",
   "metadata": {},
   "outputs": [],
   "source": [
    "def remove_vowels(rv):\n",
    "    newthing = []\n",
    "    newthing.append(letter)"
   ]
  },
  {
   "cell_type": "code",
   "execution_count": null,
   "id": "75048919",
   "metadata": {},
   "outputs": [],
   "source": [
    "def remove_vowels(rv):\n",
    "    newthing = []\n",
    "    [new_string.append(letter) for letter in vowel_word if not is_vowel(letter)]\n",
    "    return ''.join(new_string)"
   ]
  },
  {
   "cell_type": "markdown",
   "id": "975fb1a8",
   "metadata": {},
   "source": [
    "#### Q10: Define a function named normalize_name. It should accept a string and return a valid python identifier, that is:\n",
    "##### anything that is not a valid python identifier should be removed\n",
    "##### leading and trailing whitespace should be removed\n",
    "##### everything should be lowercase\n",
    "##### spaces should be replaced with underscores\n",
    "##### for example:\n",
    "##### Name will become name\n",
    "##### First Name will become first_name\n",
    "##### % Completed will become completed"
   ]
  },
  {
   "cell_type": "code",
   "execution_count": null,
   "id": "d60afbef",
   "metadata": {},
   "outputs": [],
   "source": []
  },
  {
   "cell_type": "code",
   "execution_count": null,
   "id": "705cf10e",
   "metadata": {},
   "outputs": [],
   "source": []
  },
  {
   "cell_type": "code",
   "execution_count": null,
   "id": "476671c1",
   "metadata": {},
   "outputs": [],
   "source": []
  },
  {
   "cell_type": "code",
   "execution_count": null,
   "id": "4118af8f",
   "metadata": {},
   "outputs": [],
   "source": [
    "def normalize_name(nn):\n",
    "    "
   ]
  },
  {
   "cell_type": "code",
   "execution_count": 1,
   "id": "321da031",
   "metadata": {},
   "outputs": [],
   "source": [
    "def normalize_name(nn):\n",
    "    newstring = ''\n",
    "    for letter in somestring:\n",
    "        if letter.isidentifier() or letter == ' ':\n",
    "            newstring += letter\n",
    "    return newstring.strip().lower().replace(' ', '_')\n"
   ]
  },
  {
   "cell_type": "markdown",
   "id": "e1499843",
   "metadata": {},
   "source": [
    "#### Write a function named cumulative_sum that accepts a list of numbers and returns a list that is the cumulative sum of the numbers in the list.\n",
    "##### cumulative_sum([1, 1, 1]) returns [1, 2, 3]\n",
    "##### cumulative_sum([1, 2, 3, 4]) returns [1, 3, 6, 10]"
   ]
  },
  {
   "cell_type": "code",
   "execution_count": null,
   "id": "185d66e7",
   "metadata": {},
   "outputs": [],
   "source": [
    "def cumulative_sum(cs):\n",
    "    big_list = []\n",
    "    for a in :\n",
    "        "
   ]
  },
  {
   "cell_type": "code",
   "execution_count": 1,
   "id": "8af5520e",
   "metadata": {},
   "outputs": [
    {
     "ename": "NameError",
     "evalue": "name 'mylist' is not defined",
     "output_type": "error",
     "traceback": [
      "\u001b[0;31m---------------------------------------------------------------------------\u001b[0m",
      "\u001b[0;31mNameError\u001b[0m                                 Traceback (most recent call last)",
      "Input \u001b[0;32mIn [1]\u001b[0m, in \u001b[0;36m<cell line: 8>\u001b[0;34m()\u001b[0m\n\u001b[1;32m      5\u001b[0m         newlist\u001b[38;5;241m.\u001b[39mappend(cumin)\n\u001b[1;32m      6\u001b[0m     \u001b[38;5;28;01mreturn\u001b[39;00m new_list\n\u001b[0;32m----> 8\u001b[0m \u001b[38;5;28;01massert\u001b[39;00m \u001b[43mcumulative_sum\u001b[49m\u001b[43m(\u001b[49m\u001b[43m[\u001b[49m\u001b[38;5;241;43m1\u001b[39;49m\u001b[43m,\u001b[49m\u001b[43m \u001b[49m\u001b[38;5;241;43m2\u001b[39;49m\u001b[43m,\u001b[49m\u001b[43m \u001b[49m\u001b[38;5;241;43m3\u001b[39;49m\u001b[43m,\u001b[49m\u001b[43m \u001b[49m\u001b[38;5;241;43m4\u001b[39;49m\u001b[43m]\u001b[49m\u001b[43m)\u001b[49m \u001b[38;5;241m==\u001b[39m [\u001b[38;5;241m1\u001b[39m, \u001b[38;5;241m3\u001b[39m, \u001b[38;5;241m6\u001b[39m, \u001b[38;5;241m10\u001b[39m]\n",
      "Input \u001b[0;32mIn [1]\u001b[0m, in \u001b[0;36mcumulative_sum\u001b[0;34m(first_list)\u001b[0m\n\u001b[1;32m      1\u001b[0m \u001b[38;5;28;01mdef\u001b[39;00m \u001b[38;5;21mcumulative_sum\u001b[39m(first_list):\n\u001b[1;32m      2\u001b[0m     newlist \u001b[38;5;241m=\u001b[39m []\n\u001b[0;32m----> 3\u001b[0m     \u001b[38;5;28;01mfor\u001b[39;00m n \u001b[38;5;129;01min\u001b[39;00m \u001b[43mmylist\u001b[49m:\n\u001b[1;32m      4\u001b[0m         cumin \u001b[38;5;241m=\u001b[39m \u001b[38;5;28msum\u001b[39m(first_list[:n])\n\u001b[1;32m      5\u001b[0m         newlist\u001b[38;5;241m.\u001b[39mappend(cumin)\n",
      "\u001b[0;31mNameError\u001b[0m: name 'mylist' is not defined"
     ]
    }
   ],
   "source": [
    "def cumulative_sum(cs):\n",
    "    newlist = []\n",
    "    for n in mylist:\n",
    "        cumin = sum(first_list[:n])\n",
    "        newlist.append(cumin)\n",
    "    return new_list\n",
    "    \n",
    "assert cumulative_sum([1, 2, 3, 4]) == [1, 3, 6, 10]"
   ]
  },
  {
   "cell_type": "markdown",
   "id": "7df65f50",
   "metadata": {},
   "source": [
    "##### Once you've completed the above exercises, follow the directions from https://gist.github.com/zgulde/ec8ed80ad8216905cda83d5645c60886 in order to thouroughly comment your code to explain your code."
   ]
  },
  {
   "cell_type": "code",
   "execution_count": null,
   "id": "cb947880",
   "metadata": {},
   "outputs": [],
   "source": []
  },
  {
   "cell_type": "markdown",
   "id": "0ba8f168",
   "metadata": {},
   "source": [
    "##### Create a function named twelveto24. It should accept a string in the format 10:45am or 4:30pm and return a string that is the representation of the time in a 24-hour format. Bonus write a function that does the opposite.\n",
    "##### Create a function named col_index. It should accept a spreadsheet column name, and return the index number of the column.\n",
    "##### col_index('A') returns 1\n",
    "##### col_index('B') returns 2\n",
    "##### col_index('AA') returns 27"
   ]
  },
  {
   "cell_type": "code",
   "execution_count": null,
   "id": "110c2be8",
   "metadata": {},
   "outputs": [],
   "source": [
    "# Create a function named col_index. It should accept a spreadsheet column name, and return the index number of the column."
   ]
  },
  {
   "cell_type": "code",
   "execution_count": null,
   "id": "dc1df258",
   "metadata": {},
   "outputs": [],
   "source": [
    "# col_index('A') returns 1¶\n"
   ]
  },
  {
   "cell_type": "code",
   "execution_count": null,
   "id": "b6e7d6b5",
   "metadata": {},
   "outputs": [],
   "source": [
    "# col_index('B') returns 2\n"
   ]
  },
  {
   "cell_type": "code",
   "execution_count": null,
   "id": "bce25fd6",
   "metadata": {},
   "outputs": [],
   "source": [
    "# col_index('AA') returns 27\n"
   ]
  }
 ],
 "metadata": {
  "kernelspec": {
   "display_name": "Python 3 (ipykernel)",
   "language": "python",
   "name": "python3"
  },
  "language_info": {
   "codemirror_mode": {
    "name": "ipython",
    "version": 3
   },
   "file_extension": ".py",
   "mimetype": "text/x-python",
   "name": "python",
   "nbconvert_exporter": "python",
   "pygments_lexer": "ipython3",
   "version": "3.9.12"
  }
 },
 "nbformat": 4,
 "nbformat_minor": 5
}
