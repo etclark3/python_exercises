{
 "cells": [
  {
   "cell_type": "markdown",
   "id": "21365d6b",
   "metadata": {},
   "source": [
    "#### Q1: Import and test 3 of the functions from your functions exercise file. Import each function in a different way:\n",
    "\n",
    "##### Run an interactive python session and import the module. Call the is_vowel function using the . syntax.\n",
    "##### Create a file named import_exericses.py. Within this file, use from to import the calculate_tip function directly. Call this function with values you choose and print the result.\n",
    "##### Create a jupyter notebook named import_exercises.ipynb. Use from to import the get_letter_grade function and give it an alias. Test this function in your notebook.\n",
    "##### Make sure your code that tests the function imports is run from the same directory that your functions exercise file is in."
   ]
  },
  {
   "cell_type": "code",
   "execution_count": 30,
   "id": "0b650b66",
   "metadata": {},
   "outputs": [],
   "source": [
    "import import_exercises as ie"
   ]
  },
  {
   "cell_type": "code",
   "execution_count": 31,
   "id": "5fe76872",
   "metadata": {},
   "outputs": [],
   "source": [
    "from import_exercises import get_letter_grade as gg, is_vowel as iv, calculate_tip as ct"
   ]
  },
  {
   "cell_type": "code",
   "execution_count": 28,
   "id": "f6083941",
   "metadata": {},
   "outputs": [],
   "source": [
    "import os"
   ]
  },
  {
   "cell_type": "code",
   "execution_count": 29,
   "id": "1820db3e",
   "metadata": {
    "scrolled": false
   },
   "outputs": [
    {
     "data": {
      "text/plain": [
       "['function_exercises.sql',\n",
       " 'index_practice.sql',\n",
       " 'Untitled1.ipynb',\n",
       " 'control_structures_exercises.ipynb',\n",
       " 'group_by_exercises.sql',\n",
       " 'Untitled.ipynb',\n",
       " 'where_exercises.sql',\n",
       " 'temporary_tables.sql',\n",
       " 'case_exercises_sql.sql',\n",
       " 'p.sql',\n",
       " 'group_by_review.sql',\n",
       " 'README.md',\n",
       " 'Whatever.sql',\n",
       " 'joins_exercises.sql',\n",
       " 'tables_exercises.sql',\n",
       " 'subqueries_exercises.sql',\n",
       " 'mysql_introduction.sql',\n",
       " 'import_exercises.ipynb',\n",
       " '.ipynb_checkpoints',\n",
       " 'function_exercises.ipynb',\n",
       " 'limit_exercises.sql',\n",
       " '.git',\n",
       " 'order_by_exercises.sql',\n",
       " 'more_exercises.sql',\n",
       " 'Notes.sql']"
      ]
     },
     "execution_count": 29,
     "metadata": {},
     "output_type": "execute_result"
    }
   ],
   "source": [
    "os.listdir()"
   ]
  },
  {
   "cell_type": "code",
   "execution_count": 54,
   "id": "57acfe3e",
   "metadata": {},
   "outputs": [
    {
     "data": {
      "text/plain": [
       "133.75"
      ]
     },
     "execution_count": 54,
     "metadata": {},
     "output_type": "execute_result"
    }
   ],
   "source": [
    "ie.calculate_tip(535, 25)"
   ]
  },
  {
   "cell_type": "code",
   "execution_count": 33,
   "id": "aaaf47c0",
   "metadata": {
    "scrolled": true
   },
   "outputs": [
    {
     "data": {
      "text/plain": [
       "False"
      ]
     },
     "execution_count": 33,
     "metadata": {},
     "output_type": "execute_result"
    }
   ],
   "source": [
    "ie.is_vowel('9')"
   ]
  },
  {
   "cell_type": "code",
   "execution_count": 20,
   "id": "8043033f",
   "metadata": {},
   "outputs": [
    {
     "data": {
      "text/plain": [
       "'B'"
      ]
     },
     "execution_count": 20,
     "metadata": {},
     "output_type": "execute_result"
    }
   ],
   "source": [
    "ie.get_letter_grade(88)"
   ]
  },
  {
   "cell_type": "markdown",
   "id": "f5e3803a",
   "metadata": {},
   "source": [
    "#### Q2: Read about and use the itertools module from the python standard library to help you solve the following problems:\n",
    "\n",
    "#### How many different ways can you combine the letters from \"abc\" with the numbers 1, 2, and 3?\n",
    "#### How many different combinations are there of 2 letters from \"abcd\"?\n",
    "#### How many different permutations are there of 2 letters from \"abcd\"?"
   ]
  },
  {
   "cell_type": "code",
   "execution_count": 22,
   "id": "2bd48821",
   "metadata": {},
   "outputs": [],
   "source": [
    "import itertools as i"
   ]
  },
  {
   "cell_type": "code",
   "execution_count": 59,
   "id": "6b0c2104",
   "metadata": {
    "scrolled": false
   },
   "outputs": [
    {
     "data": {
      "text/plain": [
       "[('a', '1'),\n",
       " ('a', '2'),\n",
       " ('a', '3'),\n",
       " ('b', '1'),\n",
       " ('b', '2'),\n",
       " ('b', '3'),\n",
       " ('c', '1'),\n",
       " ('c', '2'),\n",
       " ('c', '3')]"
      ]
     },
     "execution_count": 59,
     "metadata": {},
     "output_type": "execute_result"
    }
   ],
   "source": [
    "list(i.product('abc', str(123)))\n",
    "# 9 times"
   ]
  },
  {
   "cell_type": "code",
   "execution_count": 52,
   "id": "ebfe6c5b",
   "metadata": {},
   "outputs": [
    {
     "data": {
      "text/plain": [
       "[('a', 'b'), ('a', 'c'), ('a', 'd'), ('b', 'c'), ('b', 'd'), ('c', 'd')]"
      ]
     },
     "execution_count": 52,
     "metadata": {},
     "output_type": "execute_result"
    }
   ],
   "source": [
    "list(i.combinations('abcd', 2))\n",
    "# 6 combos"
   ]
  },
  {
   "cell_type": "code",
   "execution_count": 26,
   "id": "d4ac4013",
   "metadata": {},
   "outputs": [
    {
     "data": {
      "text/plain": [
       "[('a', 'b'),\n",
       " ('a', 'c'),\n",
       " ('a', 'd'),\n",
       " ('b', 'a'),\n",
       " ('b', 'c'),\n",
       " ('b', 'd'),\n",
       " ('c', 'a'),\n",
       " ('c', 'b'),\n",
       " ('c', 'd'),\n",
       " ('d', 'a'),\n",
       " ('d', 'b'),\n",
       " ('d', 'c')]"
      ]
     },
     "execution_count": 26,
     "metadata": {},
     "output_type": "execute_result"
    }
   ],
   "source": [
    "list(i.permutations('abcd',2))\n",
    "# 12 permutations"
   ]
  },
  {
   "cell_type": "markdown",
   "id": "c1b46267",
   "metadata": {},
   "source": [
    "### Q3: Save this file as profiles.json inside of your exercises directory (right click -> save file as...).\n",
    "\n",
    "##### Use the load function from the json module to open this file.\n",
    "\n",
    "##### Your code should produce a list of dictionaries. Using this data, write some code that calculates and outputs the following information:\n",
    "##### Total number of users\n",
    "##### Number of active users\n",
    "##### Number of inactive users\n",
    "##### Grand total of balances for all users\n",
    "##### Average balance per user\n",
    "##### User with the lowest balance\n",
    "##### User with the highest balance\n",
    "##### Most common favorite fruit\n",
    "##### Least most common favorite fruit\n",
    "##### Total number of unread messages for all users"
   ]
  },
  {
   "cell_type": "code",
   "execution_count": 1,
   "id": "3cfdd6d3",
   "metadata": {},
   "outputs": [],
   "source": [
    "import json"
   ]
  },
  {
   "cell_type": "code",
   "execution_count": 2,
   "id": "75b6329b",
   "metadata": {},
   "outputs": [],
   "source": [
    "profiles = json.load(open('profiles.json'))"
   ]
  },
  {
   "cell_type": "code",
   "execution_count": 3,
   "id": "ff1790cf",
   "metadata": {
    "scrolled": true
   },
   "outputs": [
    {
     "data": {
      "text/plain": [
       "19"
      ]
     },
     "execution_count": 3,
     "metadata": {},
     "output_type": "execute_result"
    }
   ],
   "source": [
    "# Total number of users\n",
    "len(profiles)\n",
    "# 19 profiles"
   ]
  },
  {
   "cell_type": "code",
   "execution_count": 4,
   "id": "c19a2ec9",
   "metadata": {},
   "outputs": [
    {
     "ename": "SyntaxError",
     "evalue": "'return' outside function (1646461731.py, line 7)",
     "output_type": "error",
     "traceback": [
      "\u001b[0;36m  Input \u001b[0;32mIn [4]\u001b[0;36m\u001b[0m\n\u001b[0;31m    return users\u001b[0m\n\u001b[0m    ^\u001b[0m\n\u001b[0;31mSyntaxError\u001b[0m\u001b[0;31m:\u001b[0m 'return' outside function\n"
     ]
    }
   ],
   "source": [
    "# Total number of users\n",
    "users = 0\n",
    "for u in profiles:\n",
    "    u[\"isActive\"]\n",
    "    if u[\"isActive\"] == True or False:\n",
    "        users += 1\n",
    "        return users\n",
    "\n",
    "print(users)"
   ]
  },
  {
   "cell_type": "code",
   "execution_count": 5,
   "id": "3e2d2f90",
   "metadata": {},
   "outputs": [],
   "source": [
    "q = list(profiles)"
   ]
  },
  {
   "cell_type": "code",
   "execution_count": 6,
   "id": "5e8305f2",
   "metadata": {},
   "outputs": [],
   "source": [
    "aa = q[0]\n",
    "bb = q[1]\n",
    "cc = q[2]\n",
    "dd = q[3]\n",
    "ee = q[4]\n",
    "ff = q[5]\n",
    "gg = q[6]\n",
    "hh = q[7]\n",
    "ii = q[8]\n",
    "jj = q[9]\n",
    "kk = q[10]\n",
    "ll = q[11]\n",
    "mm = q[12]\n",
    "nn = q[13]\n",
    "oo = q[14]\n",
    "pp = q[15]\n",
    "qq = q[16]\n",
    "rr = q[17]\n",
    "ss = q[18]"
   ]
  },
  {
   "cell_type": "code",
   "execution_count": 7,
   "id": "cf7d6762",
   "metadata": {},
   "outputs": [
    {
     "name": "stdout",
     "output_type": "stream",
     "text": [
      "['isActive']\n",
      "['isActive']\n",
      "['isActive']\n",
      "['isActive']\n",
      "['isActive']\n",
      "['isActive']\n",
      "['isActive']\n",
      "['isActive']\n",
      "['isActive']\n",
      "['isActive']\n",
      "['isActive']\n",
      "['isActive']\n",
      "['isActive']\n",
      "['isActive']\n",
      "['isActive']\n",
      "['isActive']\n",
      "['isActive']\n",
      "['isActive']\n",
      "['isActive']\n"
     ]
    }
   ],
   "source": [
    "for u in profiles:\n",
    "    u = ['isActive']\n",
    "    print(u)"
   ]
  },
  {
   "cell_type": "code",
   "execution_count": 8,
   "id": "5faca2a4",
   "metadata": {},
   "outputs": [
    {
     "ename": "AttributeError",
     "evalue": "'bool' object has no attribute 'count'",
     "output_type": "error",
     "traceback": [
      "\u001b[0;31m---------------------------------------------------------------------------\u001b[0m",
      "\u001b[0;31mAttributeError\u001b[0m                            Traceback (most recent call last)",
      "Input \u001b[0;32mIn [8]\u001b[0m, in \u001b[0;36m<cell line: 1>\u001b[0;34m()\u001b[0m\n\u001b[1;32m      2\u001b[0m zz \u001b[38;5;241m=\u001b[39m u[\u001b[38;5;124m'\u001b[39m\u001b[38;5;124misActive\u001b[39m\u001b[38;5;124m'\u001b[39m]\n\u001b[1;32m      3\u001b[0m \u001b[38;5;28;01mif\u001b[39;00m zz \u001b[38;5;241m==\u001b[39m \u001b[38;5;28;01mFalse\u001b[39;00m:\n\u001b[0;32m----> 4\u001b[0m     \u001b[38;5;28mprint\u001b[39m(\u001b[43mzz\u001b[49m\u001b[38;5;241;43m.\u001b[39;49m\u001b[43mcount\u001b[49m(\u001b[38;5;28;01mFalse\u001b[39;00m))\n",
      "\u001b[0;31mAttributeError\u001b[0m: 'bool' object has no attribute 'count'"
     ]
    }
   ],
   "source": [
    "for u in profiles:\n",
    "    zz = u['isActive']\n",
    "    if zz == False:\n",
    "        print(zz.count(False))"
   ]
  },
  {
   "cell_type": "code",
   "execution_count": null,
   "id": "2c477123",
   "metadata": {},
   "outputs": [],
   "source": [
    "# Number of inactive users\n",
    "count_users = 0\n",
    "for u in profiles:\n",
    "    zz = u['isActive']\n",
    "    if zz == False:\n",
    "        count_users += 1\n",
    "        \n",
    "print(count_users)\n",
    "# 10 inactive users"
   ]
  },
  {
   "cell_type": "code",
   "execution_count": 9,
   "id": "28c47d20",
   "metadata": {},
   "outputs": [
    {
     "name": "stdout",
     "output_type": "stream",
     "text": [
      "9\n"
     ]
    }
   ],
   "source": [
    "# Number of active users\n",
    "in_count_users = 0\n",
    "for u in profiles:\n",
    "    zz = u['isActive']\n",
    "    if zz == True:\n",
    "        in_count_users += 1\n",
    "        \n",
    "print(in_count_users)\n",
    "# 9 inactive users"
   ]
  },
  {
   "cell_type": "code",
   "execution_count": 10,
   "id": "1e1ad0c3",
   "metadata": {},
   "outputs": [],
   "source": [
    "# Grand total of balances for all users\n"
   ]
  },
  {
   "cell_type": "code",
   "execution_count": 32,
   "id": "1ce617e0",
   "metadata": {},
   "outputs": [
    {
     "name": "stdout",
     "output_type": "stream",
     "text": [
      "54e23c3e46ab53a440b580e8\n",
      "54e23c3ef5cc0d250968c212\n",
      "54e23c3e09cc6875638cd36b\n",
      "54e23c3e54e4094147a3b1da\n",
      "54e23c3e177caf5567ba87ac\n",
      "54e23c3eaffbb506aa15ec1c\n",
      "54e23c3e0fd8074c2ca52667\n",
      "54e23c3eb112d96e4204914d\n",
      "54e23c3ef30f14d0e5afddf3\n",
      "54e23c3ebd80e9c26b057fa3\n",
      "54e23c3e6d89c09f5507e7dd\n",
      "54e23c3e4192cf53edd67c99\n",
      "54e23c3eedcc65f0ec3a5496\n",
      "54e23c3eb813e66c6d33aa82\n",
      "54e23c3e502a2f526b689c3e\n",
      "54e23c3e69d22e49c7fe62de\n",
      "54e23c3e42676228c442a669\n",
      "54e23c3e4ac5969958013235\n",
      "54e23c3ed945981ba2580614\n"
     ]
    }
   ],
   "source": [
    "for profile in profiles:\n",
    "    print(profile['_id'])"
   ]
  },
  {
   "cell_type": "code",
   "execution_count": 33,
   "id": "7485fd60",
   "metadata": {
    "scrolled": true
   },
   "outputs": [
    {
     "name": "stdout",
     "output_type": "stream",
     "text": [
      "2227.79\n"
     ]
    }
   ],
   "source": [
    "# Average balance per user\n",
    "for b in profiles:\n",
    "    b = profiles[18]['balance']\n",
    "    nono = '!@#$%^&*,'\n",
    "    for no in nono:\n",
    "        bbb = float(b.strip('$').replace(',',''))\n",
    "\n",
    "print(bbb)"
   ]
  },
  {
   "cell_type": "code",
   "execution_count": 69,
   "id": "7bc2622d",
   "metadata": {
    "scrolled": true
   },
   "outputs": [
    {
     "name": "stdout",
     "output_type": "stream",
     "text": [
      "2097.02\n",
      "3654.02\n",
      "1536.02\n",
      "3919.64\n",
      "3681.39\n",
      "1694.42\n",
      "1214.10\n",
      "2930.31\n",
      "1944.15\n",
      "2839.22\n",
      "2467.31\n",
      "3304.99\n",
      "3844.42\n",
      "3594.99\n",
      "2940.24\n",
      "3062.41\n",
      "3067.82\n",
      "2646.76\n",
      "2227.79\n"
     ]
    }
   ],
   "source": [
    "for ub in profiles:\n",
    "    stripped = ub['balance'].strip('$').replace(',','')\n",
    "    values = float(stripped)\n",
    "    \n",
    "    print(stripped)"
   ]
  },
  {
   "cell_type": "code",
   "execution_count": 70,
   "id": "3cf5fd8f",
   "metadata": {},
   "outputs": [
    {
     "name": "stdout",
     "output_type": "stream",
     "text": [
      "2227.79\n"
     ]
    }
   ],
   "source": [
    "print(values)"
   ]
  },
  {
   "cell_type": "code",
   "execution_count": 47,
   "id": "ed92a538",
   "metadata": {},
   "outputs": [
    {
     "name": "stdout",
     "output_type": "stream",
     "text": [
      "$2,227.79\n"
     ]
    }
   ],
   "source": [
    "print(profile['balance'])"
   ]
  },
  {
   "cell_type": "code",
   "execution_count": 55,
   "id": "f5ccbedf",
   "metadata": {},
   "outputs": [
    {
     "name": "stdout",
     "output_type": "stream",
     "text": [
      "$2,227.79\n",
      "-----\n",
      "2227.79\n",
      "2227.79\n",
      "0\n"
     ]
    }
   ],
   "source": [
    "all_balances = 0\n",
    "balance = ub['balance']\n",
    "\n",
    "for profile in profiles:\n",
    "    usermoney = balance.strip('$').replace(',','')\n",
    "    thebalances = float(usermoney)\n",
    "    all_balances = all_balances + balance\n",
    "\n",
    "print(balance)\n",
    "print('-----')\n",
    "print(usermoney)\n",
    "print(thebalances)\n",
    "print(all_balances)"
   ]
  },
  {
   "cell_type": "code",
   "execution_count": 13,
   "id": "1d842cac",
   "metadata": {
    "scrolled": true
   },
   "outputs": [
    {
     "ename": "NameError",
     "evalue": "name 'total' is not defined",
     "output_type": "error",
     "traceback": [
      "\u001b[0;31m---------------------------------------------------------------------------\u001b[0m",
      "\u001b[0;31mNameError\u001b[0m                                 Traceback (most recent call last)",
      "Input \u001b[0;32mIn [13]\u001b[0m, in \u001b[0;36m<cell line: 1>\u001b[0;34m()\u001b[0m\n\u001b[0;32m----> 1\u001b[0m \u001b[43mtotal\u001b[49m\u001b[38;5;241m/\u001b[39m\u001b[38;5;241m19\u001b[39m\n",
      "\u001b[0;31mNameError\u001b[0m: name 'total' is not defined"
     ]
    }
   ],
   "source": [
    "total/19"
   ]
  },
  {
   "cell_type": "code",
   "execution_count": null,
   "id": "9412e128",
   "metadata": {},
   "outputs": [],
   "source": [
    "allbalances = []\n",
    "\n",
    "for profile in profiles:\n",
    "    user_balance = profile['balance'].strip('$').replace(',', '')\n",
    "    print(user_balance)\n",
    "    balance_ls.append(user_balance)"
   ]
  },
  {
   "cell_type": "code",
   "execution_count": null,
   "id": "9eab90fd",
   "metadata": {},
   "outputs": [],
   "source": [
    "# average balance"
   ]
  },
  {
   "cell_type": "code",
   "execution_count": 14,
   "id": "de39412c",
   "metadata": {},
   "outputs": [],
   "source": [
    "# User with the lowest balance\n",
    "# Avery Flynn 1214.10"
   ]
  },
  {
   "cell_type": "code",
   "execution_count": null,
   "id": "70c6ad6e",
   "metadata": {},
   "outputs": [],
   "source": [
    "# User with the highest balance\n",
    "# Fay Hammond 3919.64"
   ]
  },
  {
   "cell_type": "code",
   "execution_count": 72,
   "id": "39ea5780",
   "metadata": {},
   "outputs": [
    {
     "data": {
      "text/plain": [
       "'$2,227.79'"
      ]
     },
     "execution_count": 72,
     "metadata": {},
     "output_type": "execute_result"
    }
   ],
   "source": [
    "ub['balance']"
   ]
  },
  {
   "cell_type": "code",
   "execution_count": 23,
   "id": "3c1efeb8",
   "metadata": {},
   "outputs": [
    {
     "name": "stdout",
     "output_type": "stream",
     "text": [
      "strawberry\n"
     ]
    }
   ],
   "source": [
    "# Most common favorite fruit\n",
    "strawberry\n",
    "# def most_common_fruit():\n",
    "for f in profiles:\n",
    "    f['favoriteFruit']\n",
    "print(f['favoriteFruit'])"
   ]
  },
  {
   "cell_type": "code",
   "execution_count": 24,
   "id": "57e2e09c",
   "metadata": {},
   "outputs": [
    {
     "name": "stdout",
     "output_type": "stream",
     "text": [
      "strawberry\n"
     ]
    }
   ],
   "source": [
    "print(f['favoriteFruit'])"
   ]
  },
  {
   "cell_type": "code",
   "execution_count": 26,
   "id": "a2d3ac2b",
   "metadata": {},
   "outputs": [
    {
     "ename": "TypeError",
     "evalue": "list indices must be integers or slices, not str",
     "output_type": "error",
     "traceback": [
      "\u001b[0;31m---------------------------------------------------------------------------\u001b[0m",
      "\u001b[0;31mTypeError\u001b[0m                                 Traceback (most recent call last)",
      "Input \u001b[0;32mIn [26]\u001b[0m, in \u001b[0;36m<cell line: 1>\u001b[0;34m()\u001b[0m\n\u001b[0;32m----> 1\u001b[0m \u001b[43mprofiles\u001b[49m\u001b[43m[\u001b[49m\u001b[38;5;124;43m'\u001b[39;49m\u001b[38;5;124;43mfavoriteFruit\u001b[39;49m\u001b[38;5;124;43m'\u001b[39;49m\u001b[43m]\u001b[49m\n",
      "\u001b[0;31mTypeError\u001b[0m: list indices must be integers or slices, not str"
     ]
    }
   ],
   "source": [
    "profiles['favoriteFruit']"
   ]
  },
  {
   "cell_type": "code",
   "execution_count": 22,
   "id": "925fde32",
   "metadata": {},
   "outputs": [
    {
     "ename": "IndentationError",
     "evalue": "expected an indented block (845629999.py, line 2)",
     "output_type": "error",
     "traceback": [
      "\u001b[0;36m  Input \u001b[0;32mIn [22]\u001b[0;36m\u001b[0m\n\u001b[0;31m    def least_common_fruit():\u001b[0m\n\u001b[0m                             ^\u001b[0m\n\u001b[0;31mIndentationError\u001b[0m\u001b[0;31m:\u001b[0m expected an indented block\n"
     ]
    }
   ],
   "source": [
    "# Least most common favorite fruit\n",
    "def least_common_fruit():\n",
    "    "
   ]
  },
  {
   "cell_type": "code",
   "execution_count": 25,
   "id": "00e44ded",
   "metadata": {},
   "outputs": [
    {
     "name": "stdout",
     "output_type": "stream",
     "text": [
      "4\n",
      "19\n",
      "5\n",
      "10\n",
      "9\n",
      "19\n",
      "13\n",
      "17\n",
      "2\n",
      "18\n",
      "2\n",
      "13\n",
      "7\n",
      "13\n",
      "12\n",
      "7\n",
      "19\n",
      "5\n",
      "16\n",
      "-----\n",
      "210\n"
     ]
    }
   ],
   "source": [
    "# Total number of unread messages for all users\n",
    "a = \"\"\n",
    "for c in profiles[0]['greeting']:\n",
    "    if c.isdigit():\n",
    "        a = a + c\n",
    "print(int(a))\n",
    "\n",
    "b = \"\"\n",
    "for c in profiles[1]['greeting']:\n",
    "    if c.isdigit():\n",
    "        b = b + c\n",
    "print(int(b))\n",
    "\n",
    "p = \"\"\n",
    "for c in profiles[2]['greeting']:\n",
    "    if c.isdigit():\n",
    "        p = p + c\n",
    "print(int(p))\n",
    "\n",
    "d = \"\"\n",
    "for c in profiles[3]['greeting']:\n",
    "    if c.isdigit():\n",
    "        d = d + c\n",
    "print(int(d))\n",
    "\n",
    "e = \"\"\n",
    "for c in profiles[4]['greeting']:\n",
    "    if c.isdigit():\n",
    "        e = e + c\n",
    "print(int(e))\n",
    "\n",
    "f = \"\"\n",
    "for c in profiles[5]['greeting']:\n",
    "    if c.isdigit():\n",
    "        f = f + c\n",
    "print(int(f))\n",
    "\n",
    "g = \"\"\n",
    "for c in profiles[6]['greeting']:\n",
    "    if c.isdigit():\n",
    "        g = g + c\n",
    "print(int(g))\n",
    "\n",
    "h = \"\"\n",
    "for c in profiles[7]['greeting']:\n",
    "    if c.isdigit():\n",
    "        h = h + c\n",
    "print(int(h))\n",
    "\n",
    "i = \"\"\n",
    "for c in profiles[8]['greeting']:\n",
    "    if c.isdigit():\n",
    "        i = i + c\n",
    "print(int(i))\n",
    "\n",
    "j = \"\"\n",
    "for c in profiles[9]['greeting']:\n",
    "    if c.isdigit():\n",
    "        j = j + c\n",
    "print(int(j))\n",
    "\n",
    "k = \"\"\n",
    "for c in profiles[10]['greeting']:\n",
    "    if c.isdigit():\n",
    "        k = k + c\n",
    "print(int(k))\n",
    "\n",
    "l = \"\"\n",
    "for c in profiles[11]['greeting']:\n",
    "    if c.isdigit():\n",
    "        l = l + c\n",
    "print(int(l))\n",
    "\n",
    "m = \"\"\n",
    "for c in profiles[12]['greeting']:\n",
    "    if c.isdigit():\n",
    "        m = m + c\n",
    "print(int(m))\n",
    "\n",
    "n = \"\"\n",
    "for c in profiles[13]['greeting']:\n",
    "    if c.isdigit():\n",
    "        n = n + c\n",
    "print(int(n))\n",
    "\n",
    "o = \"\"\n",
    "for c in profiles[14]['greeting']:\n",
    "    if c.isdigit():\n",
    "        o = o + c\n",
    "print(int(o))\n",
    "\n",
    "q = \"\"\n",
    "for c in profiles[15]['greeting']:\n",
    "    if c.isdigit():\n",
    "        q = q + c\n",
    "print(int(q))\n",
    "\n",
    "r = \"\"\n",
    "for c in profiles[16]['greeting']:\n",
    "    if c.isdigit():\n",
    "        r = r + c\n",
    "print(int(r))\n",
    "\n",
    "s = \"\"\n",
    "for c in profiles[17]['greeting']:\n",
    "    if c.isdigit():\n",
    "        s = s + c\n",
    "print(int(s))\n",
    "\n",
    "t = \"\"\n",
    "for c in profiles[18]['greeting']:\n",
    "    if c.isdigit():\n",
    "        t = t + c\n",
    "print(int(t))\n",
    "print('-----')\n",
    "print(int(a) + int(b) + int(p) + int(d) + int(e) + int(f)+ int(g)+ int(h)+ int(i)+ int(j) \n",
    "+ int(k) + int(l) + int(m) + int(n)+ int(o) + int(q) + int(r) + int(s)+ int(t))"
   ]
  },
  {
   "cell_type": "code",
   "execution_count": 27,
   "id": "62e35b1b",
   "metadata": {},
   "outputs": [
    {
     "name": "stdout",
     "output_type": "stream",
     "text": [
      "Hello, Hebert Estes! You have 4 unread messages.\n",
      "Hello, Allison Wynn! You have 19 unread messages.\n",
      "Hello, Jacobs Floyd! You have 5 unread messages.\n",
      "Hello, Fay Hammond! You have 10 unread messages.\n",
      "Hello, Chasity Marsh! You have 9 unread messages.\n",
      "Hello, Camacho Cortez! You have 19 unread messages.\n",
      "Hello, Avery Flynn! You have 13 unread messages.\n",
      "Hello, Michael Cash! You have 17 unread messages.\n",
      "Hello, Madeleine Bray! You have 2 unread messages.\n",
      "Hello, Corine French! You have 18 unread messages.\n",
      "Hello, Trudy Cummings! You have 2 unread messages.\n",
      "Hello, Peggy Mayer! You have 13 unread messages.\n",
      "Hello, Chan Hurley! You have 7 unread messages.\n",
      "Hello, Diaz Pena! You have 13 unread messages.\n",
      "Hello, Heath Castaneda! You have 12 unread messages.\n",
      "Hello, Greer Blankenship! You have 7 unread messages.\n",
      "Hello, Coffey Hayes! You have 19 unread messages.\n",
      "Hello, Leanne Hurst! You have 5 unread messages.\n",
      "Hello, Ewing Larson! You have 16 unread messages.\n"
     ]
    }
   ],
   "source": [
    "for profile in profiles:\n",
    "    print(profile['greeting'])"
   ]
  },
  {
   "cell_type": "code",
   "execution_count": 330,
   "id": "8dbdfc17",
   "metadata": {},
   "outputs": [
    {
     "name": "stdout",
     "output_type": "stream",
     "text": [
      "4\n"
     ]
    }
   ],
   "source": [
    "num = \"\"\n",
    "for c in profiles[0]['greeting']:\n",
    "    if c.isdigit():\n",
    "        num = num + c\n",
    "print(int(num))"
   ]
  },
  {
   "cell_type": "code",
   "execution_count": 296,
   "id": "9d1b56c8",
   "metadata": {},
   "outputs": [
    {
     "data": {
      "text/plain": [
       "'Hello, Allison Wynn! You have 19 unread messages.'"
      ]
     },
     "execution_count": 296,
     "metadata": {},
     "output_type": "execute_result"
    }
   ],
   "source": [
    "profiles[1]['greeting']"
   ]
  },
  {
   "cell_type": "code",
   "execution_count": 73,
   "id": "67c9bb40",
   "metadata": {},
   "outputs": [],
   "source": [
    "def normalize_name(nn):\n",
    "    newstring = ''\n",
    "    for letter in somestring:\n",
    "        if letter.isidentifier() or letter == ' ':\n",
    "            newstring += letter\n",
    "    return newstring.strip().lower().replace(' ', '_')\n",
    "\n"
   ]
  },
  {
   "cell_type": "code",
   "execution_count": 74,
   "id": "a4a9b01f",
   "metadata": {},
   "outputs": [
    {
     "name": "stdout",
     "output_type": "stream",
     "text": [
      "2\n"
     ]
    }
   ],
   "source": [
    "def most_frequent(List):\n",
    "    return max(set(List), key = List.count)\n",
    " \n",
    "List = [2, 1, 2, 2, 1, 3]\n",
    "print(most_frequent(List))"
   ]
  },
  {
   "cell_type": "code",
   "execution_count": 288,
   "id": "2afb47b8",
   "metadata": {},
   "outputs": [],
   "source": [
    "from collections import Counter"
   ]
  },
  {
   "cell_type": "code",
   "execution_count": 297,
   "id": "43e9cd59",
   "metadata": {},
   "outputs": [
    {
     "data": {
      "text/plain": [
       "list"
      ]
     },
     "execution_count": 297,
     "metadata": {},
     "output_type": "execute_result"
    }
   ],
   "source": [
    "type(profiles)"
   ]
  },
  {
   "cell_type": "code",
   "execution_count": 324,
   "id": "e1c58c32",
   "metadata": {},
   "outputs": [
    {
     "name": "stdout",
     "output_type": "stream",
     "text": [
      "Original String : Python4Journaldev\n",
      "Extracted numbers from the list : 209702\n"
     ]
    }
   ],
   "source": [
    "inp_str = \"Python4Journaldev\"\n",
    "print(\"Original String : \" + inp_str) \n",
    "num = \"\"\n",
    "for c in profiles[0]['balance']:\n",
    "    if c.isdigit():\n",
    "        num = num + c\n",
    "print(\"Extracted numbers from the list : \" + num)"
   ]
  },
  {
   "cell_type": "code",
   "execution_count": null,
   "id": "17be9a66",
   "metadata": {},
   "outputs": [],
   "source": []
  }
 ],
 "metadata": {
  "kernelspec": {
   "display_name": "Python 3 (ipykernel)",
   "language": "python",
   "name": "python3"
  },
  "language_info": {
   "codemirror_mode": {
    "name": "ipython",
    "version": 3
   },
   "file_extension": ".py",
   "mimetype": "text/x-python",
   "name": "python",
   "nbconvert_exporter": "python",
   "pygments_lexer": "ipython3",
   "version": "3.9.12"
  }
 },
 "nbformat": 4,
 "nbformat_minor": 5
}
